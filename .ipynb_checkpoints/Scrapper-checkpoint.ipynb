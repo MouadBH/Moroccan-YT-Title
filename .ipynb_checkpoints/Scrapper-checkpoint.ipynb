{
 "cells": [
  {
   "cell_type": "code",
   "execution_count": null,
   "metadata": {},
   "outputs": [],
   "source": [
    "from bs4 import BeautifulSoup\n",
    "import requests\n",
    "\n",
    "source = requests.get(\"https://www.youtube.com/playlist?list=PLsvl4NMyyNiWoswbCufti4XTCFnE_YKIt\").text\n",
    "soup = BeautifulSoup(source, 'html.parser')#.text.encode(\"utf-8\")\n",
    "\n",
    "file = open('data.txt', 'w+', encoding=\"utf-8\")\n",
    "for title in soup.findAll('a',{'class':'pl-video-title-link'}):\n",
    "    try:\n",
    "        title = title.get_text().strip() # Title\n",
    "        print(title)\n",
    "\n",
    "    except Exception as e:\n",
    "        description = None\n",
    "    file.write(title + \"\\n\")\n",
    "file.close()"
   ]
  },
  {
   "cell_type": "code",
   "execution_count": 5,
   "metadata": {},
   "outputs": [
    {
     "name": "stdout",
     "output_type": "stream",
     "text": [
      "دخلنا داخل الأهرامات في مصر و اكتشفنا أسرار لم تسمعها من قبل 🇪🇬\n",
      "إحتفالات هيستيرية وتصريحات مجنونة للجماهير الرجاوية بعد التأهل التاريخي على حساب الوداد.\n",
      "شاهد كيف عاش السلامي لحظة عودة الرجاء بتعادل مثير أمام الوداد\n",
      "جاعندي لوسي وخرجنا نتعشاو مجموعين ❤️ودرنا صدقة كسكس\n",
      "من وسط فرحة لاعبي الرجاء وجمهورها   نزول الجماهير ومتولي أصبح \"كابو\" الماكانا\"\n",
      "اخيرا هذا هو حفل زفافي الذي ينتظره الجميع  💍 👰🏻\n",
      "الخصوصية فدارنا\n",
      "LZ3ER - M9S7 KAYHDR V4 - لزعر - مقصح كايهضر\n",
      "الفار ديال كيفاش.. شغب في نهاية ديربي الغضب وإصابة مشجعين وأمنيين\n",
      "تيفو \"البطة\" و كركاج رجاوي خيالي حجب الرؤية عن مركب محمد الخامس\n",
      "أخيرا الظهور الأول لخويا معايا فالقناة😍\n",
      "Nouamane Belaiachi - Bayna (EXCLUSIVE Music Video) | (نعمان بلعياشي - باينا (فيديو كليب حصري\n",
      "قصرية صدقة جاتني حتى لدار/وصفة لتقوية الأظافر\n",
      "فهد مفتخر يتحدّى نفسه ويغني جبران #MBCTheVoice\n",
      "ملي كيزوجوها دارهم على قبل الفلوس ها النتيجة - عريس الغفلة 3\n",
      "العودة الي الجامعة الجزء الثاني 😄\n",
      "سليمان يأخد فيروزة للتحقيق -  حريم السلطان الحلقة 76\n",
      "هذولي ناس كسولة ولا ذكية ؟! #ناز_رياكشن\n",
      "وأخيرا خطوبة 💍💍ولد مي نعيمة /عادات وتقاليد\n",
      "L'Algérino feat. Fianso - Les Princes de la Nuit (Clip Officiel)\n",
      "Highlights Real Madrid vs Real Sociedad (3-1)\n",
      "NOUHAILA BARBIE I مول الصوت بغا يدير المزيان مع البوكوصة نهيلة باربي فتحدي لا أه لا لا\n",
      "SCH - Ça ira (Clip officiel)\n",
      "تحدي اللى ماما بتفكر فيه نشتريه🔥🔥 لو فزنا رح نتحكم بحياة بابا وماما يوم كامل😱\n",
      "سلام - عصومي ووليد (فيديو كليب حصري) | SALAM - Assomi & Waleed (Official Music Video)\n",
      "تحدي اكل الشوارع في ماليزيا Malaysian Street Food 🇲🇾\n",
      "ريال مدريد يهزم سوسيداد .. روح بنزيما\n",
      "DADJU - Wouli Liya avec KALY, SOOLKING & AYMANE SERHANI (Audio Officiel)\n",
      "Drizzy - Mia ft ILY (Official audio)\n",
      "مصغرين امام العملاق\n",
      "DJALIL PALERMO  2019-   DJIBOU EL VAR   ( Clip Officiel )\n",
      "الدحيح - البكتيريا الشقية\n",
      "شكل القط تحت المجهر \" انصدمت من اللي شفته \" 😱😱\n",
      "HIGHLIGHTS | MAN CITY 2-1 CHELSEA | GOALS, PLUS MAHREZ REACTION\n",
      "ردة فعلي مع شباب لمقاطعي القديمة🤣|Reacting to My Old Video\n",
      "مغامرة أكل الشوارع في البرازيل 🇧🇷 ساو باولو\n",
      "Artmasta -  Filamen ft. Si Lemhaf\n",
      "تحدي أي شي تلمسه تشتريه | شوفوا كم طلع الحساب😱💰!!!\n",
      "خروف كامل غوزي إماراتي في صحراء دبي!! - Emirati Oizi in Dubai\n",
      "تنسيقات مع ريما ل تريند شتاء ٢٠ / ١٩ مع شي إن\n",
      "اول مرة بيبي تركب حصان (نهاية بدموع😢)\n",
      "Reacting to My Brother's Tiktoks😲 !!(ردة فعلي على مقاطع اخوي في تيك توك!! (طلع يكلم بنات\n",
      "LILI's FILM #2 - LISA Dance Performance Video\n",
      "اخيراً رفعت ضغطها - نكهات غريبة\n",
      "DX has two words for King Corbin: SmackDown Exclusive, Nov. 22, 2019\n",
      "تحدي التلميح | صارت تضربني\n",
      "بين الصراخ والدموع: فارس يصفع ثريا في مواجهة حاسمة والأخيرة ترد في عروس بيروت... فهل انتهى الحب؟\n",
      "Faouzia - Tears of Gold [Official Music Video]\n",
      "لالة حادة كتحني و زينب كتغني 😂\n",
      "انس واصالة حنان وحسين (تحدي الصندوق )!!\n",
      "فاش كاتفيقك امك للمدرسة\n",
      "Lbenj - OK BB (Official Music Video)\n",
      "Free Fire World Series 2019 (MENA)\n",
      "Zouhair Bahaoui - FAVOR (EXCLUSIVE Music Video) | (زهير البهاوي - فابور (حصرياً\n",
      "عشية بالكواليس😂حقيقة روتيني المسائي🥺salmone in padella\n",
      "Gnawi - 7SHAYSHI | حشايشي PROD. DJ JIMMY-B\n",
      "MAESTRO - Fidèle (Official Music Video)\n",
      "صايبت صالون مغربي  بعجلات السيارات و النتيجة يا سلام /ج 2\n",
      "Balti - Haha (Official Music Video)\n",
      "بصراحه شعري احرش ماعمري عملت الكيراتين ولكن هاشنو درتلو (زيت الطبخ)....\n",
      "Weld l'Griya 09 ft. LZ3ER , GNAWI - عاش الشعب (Prod by 88.YounG)\n",
      "Soolking - Bébé allô [Official Music Video] Prod by Rzon\n",
      "Dollypran ft ElGrandeToto - CHIICO (prod by : Captain svg)\n",
      "لالة حادة معروضة لعشاء رومانسي مع صحباتها بمدينة مراكش\n",
      "7LIWA  #LASTREET (PROMO)\n",
      "DEMON X MORO X NIZZY BEE - BTANA - PROD BY ICEYKEYZ\n",
      "Challenge in brazil vs HEROSHIMA\n",
      "ذهبت الى التمثال الكبير في البرازيل و طلعنا فوق اكبر جبل هنا 🇧🇷😍\n",
      "اسماء بيوتي عروسة في دبي 🇦🇪/ أخيب حاجة فراق الأحباب 😭\n",
      "تحليل منطقي لمبارة المنتخب المغربي و بوروندي |  3 # 0\n",
      "فاش كتعيط ليك مراتك 😂\n",
      "وليمة عندي فدار | حماتي و شخي جاو عندي شنو المناسبة ؟\n",
      "خرجات مني اليوم ، خرجت نلوح ميكة ، تسد عليا الباب و المفتاح لداخل و التلفون و البيبي فالدار بوحدو\n",
      "Saad Lamjarred - Daba Tzian (EXCLUSIVE ) | (سعد لمجرد - دابا تزيان (حصري\n"
     ]
    }
   ],
   "source": [
    "from bs4 import BeautifulSoup\n",
    "import requests\n",
    "\n",
    "source = requests.get(\"https://www.youtube.com/feed/trending\").text\n",
    "soup = BeautifulSoup(source, 'lxml')#.text.encode(\"utf-8\")\n",
    "\n",
    "file = open('data2.txt','w+', encoding=\"utf-8\")\n",
    "\n",
    "for content in soup.findAll('div', class_= \"yt-lockup-content\"):\n",
    "    #print (content)\n",
    "    try:\n",
    "        title = content.h3.a.text\n",
    "        print(title)\n",
    "\n",
    "    except Exception as e:\n",
    "        description = None\n",
    "\n",
    "    file.write(title + \"\\n\")\n",
    "\n",
    "file.close()"
   ]
  },
  {
   "cell_type": "markdown",
   "metadata": {},
   "source": [
    "## merge two data files"
   ]
  },
  {
   "cell_type": "code",
   "execution_count": 15,
   "metadata": {},
   "outputs": [
    {
     "ename": "UnicodeDecodeError",
     "evalue": "'charmap' codec can't decode byte 0x81 in position 95: character maps to <undefined>",
     "output_type": "error",
     "traceback": [
      "\u001b[1;31m---------------------------------------------------------------------------\u001b[0m",
      "\u001b[1;31mUnicodeDecodeError\u001b[0m                        Traceback (most recent call last)",
      "\u001b[1;32m<ipython-input-15-4707e1e8d485>\u001b[0m in \u001b[0;36m<module>\u001b[1;34m\u001b[0m\n\u001b[0;32m      3\u001b[0m     \u001b[1;32mfor\u001b[0m \u001b[0mfname\u001b[0m \u001b[1;32min\u001b[0m \u001b[0mfilenames\u001b[0m\u001b[1;33m:\u001b[0m\u001b[1;33m\u001b[0m\u001b[1;33m\u001b[0m\u001b[0m\n\u001b[0;32m      4\u001b[0m         \u001b[1;32mwith\u001b[0m \u001b[0mopen\u001b[0m\u001b[1;33m(\u001b[0m\u001b[0mfname\u001b[0m\u001b[1;33m)\u001b[0m \u001b[1;32mas\u001b[0m \u001b[0minfile\u001b[0m\u001b[1;33m:\u001b[0m\u001b[1;33m\u001b[0m\u001b[1;33m\u001b[0m\u001b[0m\n\u001b[1;32m----> 5\u001b[1;33m             \u001b[0moutfile\u001b[0m\u001b[1;33m.\u001b[0m\u001b[0mwrite\u001b[0m\u001b[1;33m(\u001b[0m\u001b[0minfile\u001b[0m\u001b[1;33m.\u001b[0m\u001b[0mread\u001b[0m\u001b[1;33m(\u001b[0m\u001b[1;33m)\u001b[0m\u001b[1;33m)\u001b[0m\u001b[1;33m\u001b[0m\u001b[1;33m\u001b[0m\u001b[0m\n\u001b[0m",
      "\u001b[1;32m~\\Anaconda3\\lib\\encodings\\cp1252.py\u001b[0m in \u001b[0;36mdecode\u001b[1;34m(self, input, final)\u001b[0m\n\u001b[0;32m     21\u001b[0m \u001b[1;32mclass\u001b[0m \u001b[0mIncrementalDecoder\u001b[0m\u001b[1;33m(\u001b[0m\u001b[0mcodecs\u001b[0m\u001b[1;33m.\u001b[0m\u001b[0mIncrementalDecoder\u001b[0m\u001b[1;33m)\u001b[0m\u001b[1;33m:\u001b[0m\u001b[1;33m\u001b[0m\u001b[1;33m\u001b[0m\u001b[0m\n\u001b[0;32m     22\u001b[0m     \u001b[1;32mdef\u001b[0m \u001b[0mdecode\u001b[0m\u001b[1;33m(\u001b[0m\u001b[0mself\u001b[0m\u001b[1;33m,\u001b[0m \u001b[0minput\u001b[0m\u001b[1;33m,\u001b[0m \u001b[0mfinal\u001b[0m\u001b[1;33m=\u001b[0m\u001b[1;32mFalse\u001b[0m\u001b[1;33m)\u001b[0m\u001b[1;33m:\u001b[0m\u001b[1;33m\u001b[0m\u001b[1;33m\u001b[0m\u001b[0m\n\u001b[1;32m---> 23\u001b[1;33m         \u001b[1;32mreturn\u001b[0m \u001b[0mcodecs\u001b[0m\u001b[1;33m.\u001b[0m\u001b[0mcharmap_decode\u001b[0m\u001b[1;33m(\u001b[0m\u001b[0minput\u001b[0m\u001b[1;33m,\u001b[0m\u001b[0mself\u001b[0m\u001b[1;33m.\u001b[0m\u001b[0merrors\u001b[0m\u001b[1;33m,\u001b[0m\u001b[0mdecoding_table\u001b[0m\u001b[1;33m)\u001b[0m\u001b[1;33m[\u001b[0m\u001b[1;36m0\u001b[0m\u001b[1;33m]\u001b[0m\u001b[1;33m\u001b[0m\u001b[1;33m\u001b[0m\u001b[0m\n\u001b[0m\u001b[0;32m     24\u001b[0m \u001b[1;33m\u001b[0m\u001b[0m\n\u001b[0;32m     25\u001b[0m \u001b[1;32mclass\u001b[0m \u001b[0mStreamWriter\u001b[0m\u001b[1;33m(\u001b[0m\u001b[0mCodec\u001b[0m\u001b[1;33m,\u001b[0m\u001b[0mcodecs\u001b[0m\u001b[1;33m.\u001b[0m\u001b[0mStreamWriter\u001b[0m\u001b[1;33m)\u001b[0m\u001b[1;33m:\u001b[0m\u001b[1;33m\u001b[0m\u001b[1;33m\u001b[0m\u001b[0m\n",
      "\u001b[1;31mUnicodeDecodeError\u001b[0m: 'charmap' codec can't decode byte 0x81 in position 95: character maps to <undefined>"
     ]
    }
   ],
   "source": [
    "filenames = ['data.txt', 'data2.txt']\n",
    "with open('df.txt', 'w+', encoding=\"utf-8\") as outfile:\n",
    "    for fname in filenames:\n",
    "        with open(fname) as infile:\n",
    "            outfile.write(infile.read())\n"
   ]
  },
  {
   "cell_type": "code",
   "execution_count": null,
   "metadata": {},
   "outputs": [],
   "source": []
  }
 ],
 "metadata": {
  "kernelspec": {
   "display_name": "Python 3",
   "language": "python",
   "name": "python3"
  },
  "language_info": {
   "codemirror_mode": {
    "name": "ipython",
    "version": 3
   },
   "file_extension": ".py",
   "mimetype": "text/x-python",
   "name": "python",
   "nbconvert_exporter": "python",
   "pygments_lexer": "ipython3",
   "version": "3.7.3"
  }
 },
 "nbformat": 4,
 "nbformat_minor": 2
}
