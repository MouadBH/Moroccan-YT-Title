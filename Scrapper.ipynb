{
 "cells": [
  {
   "cell_type": "code",
   "execution_count": null,
   "metadata": {},
   "outputs": [],
   "source": [
    "from bs4 import BeautifulSoup\n",
    "import requests\n",
    "\n",
    "source = requests.get(\"https://www.youtube.com/playlist?list=PLsvl4NMyyNiWoswbCufti4XTCFnE_YKIt\").text\n",
    "soup = BeautifulSoup(source, 'html.parser')#.text.encode(\"utf-8\")\n",
    "\n",
    "file = open('data.txt', 'w+', encoding=\"utf-8\")\n",
    "for title in soup.findAll('a',{'class':'pl-video-title-link'}):\n",
    "    try:\n",
    "        title = title.get_text().strip() # Title\n",
    "        print(title)\n",
    "\n",
    "    except Exception as e:\n",
    "        description = None\n",
    "    file.write(title + \"\\n\")\n",
    "file.close()"
   ]
  },
  {
   "cell_type": "code",
   "execution_count": 6,
   "metadata": {},
   "outputs": [
    {
     "name": "stdout",
     "output_type": "stream",
     "text": [
      "سيمو بنبشير في قفص الاتهام.. الحلقة الكاملة\n",
      "صادم ..لبنى ابيضار تفقد اعصابها و تكشف علاقتها بأهريش في عندي مايفيد وتمنع العشابي من مواصلة التصوير\n",
      "قدور و عويشة - الـــــعروســــة - 2 -\n",
      "طفلة مغربية تتوج بلقب \"تحدي القراءة العربي\"\n",
      "الحفل الختامي: تحدي القراءة العربي 2018\n",
      "AYOUB AFRICANO - TBEDELT  (Exclusive Music Video) |  أيوب أفريكانو - تبدلت\n",
      "أخطر مواجهة 👊 بين بشرى الضوو والبرلمانيين.. دارجة البغرير وغريبة، ملايينهم والكاريانات، \"زواج\" يتيم\n",
      "أحسن سكيتش على الساعة الجديدة / راك غادي في الخسران العثماني هههه\n",
      "سعيد الناصري يخرج عن صمته وتدخل في حكم على سائق القطار بوقنادل...\n",
      "K'lma - Tkellem (audio) كلمة - تكلم\n",
      "بشرى الضو في أول رد لها على منتقدي ابنة شقيقتها: \"حشومة تكسروا الموهبة ديال بنيوتة\"\n",
      "مسلسل سامحيني حلقة اليوم الاثنين 1532 مدبلج صوت وصورة على 2m\n",
      "33 PRICELESS HACKS FOR PARENTS\n",
      "أقوى رد لمغربي على الساعة الجديدة و الحكومة\n",
      "جديـــد !!حلوة القرعة الغريبة 😲بنصف كأس دقيق بدون زيت ولا زبدة توجد في 10 دقائق رووعة\n",
      "ElGrandeToto - Piccola (Prod. by Hades)\n",
      "الشيخة طراكس تقصف أدمين مجموعة بروكلين وامه تذرف الدموع بمراكش\n",
      "مغربي في أقوى رد على حكومة العثماني بخصوص الساعة الإضافية..أطالب باستقالة العثماني\n",
      "ستندم إن لم تعرفها طرق مضمونة لتنظيف وعلاج القولون ستخلصك من فضلات وسموم متراكمة واعراض القولون كلها\n",
      "ساري كول : مغربي  بهدل ساري كول تبهديلة ودخل فيها طول وعرض Sari_Cool\n",
      "عاااجل!!محمد سادس يأمر باعتقال لالة سلمى لن تصدق كيف اصبح شكلها صدمة للمغاربة..!!\n",
      "MasterChef Junior - Saison 1 - Prime 3\n",
      "تعرفو على كيفاش تدير ساري كوول ملي تتكون خارجة مكياج ولباس وبعض الأسرار\n",
      "عاجل..تم إلغاء العمل  بالساعة الإضافية بالمغرب شوفو كيفاش - سولو حمادي\n",
      "كيكة غير الكيكات اللي حضرت وجربت بكل بساطة رهيييبة بما في الكلمة من معنى !!!!.....\n",
      "Zina Daoudia - 9ta3 L7ass (EXCLUSIVE Lyric Clip) | زينة الداودية - اقطع الحس (حصرياً) مع الكلمات\n",
      "مسلسل سامحيني حلقة يوم الأربعاء 1534 samhini 1534 complet 2M\n",
      "Kader Japonais - Y'en a marre (Official Video Lyrics) 2019\n",
      "ساري كوول ترد على كل الإشاعات التي راجت مؤخرا عليها نري اش دارت ليهوم\n",
      "فريدة بطلة مسلسل سامحيني في الحسيمة\n",
      "عاجل : تغيير توقيت الدخول المدرسي و الادارات رغم تثبيت التوقيت الصيفي\n",
      "مواطنون يردون على الحكومة.. استمرار الساعة الإضافية تخربيق وبسالات\n",
      "عاااجل!!محمد السادس يوجه رسالة خطيرة إلى سارة كول ويصدم الجميع صدمة للمغاربة..!!\n",
      "لن تصدق الحكومة تعلن عن التوقيت المدرسي الجديد في المغرب بعد الساعة الجديدة sa3a jadida\n",
      "Le360.ma •القصة الكاملة لجريمة قطع رأس بدوار الشريف بالمحمدية\n",
      "شهادت مثيرة وصادمة لجيران ضحية رصاص الامن بمراكش\n",
      "حلقة شيقة مع لالة نعيمة في تحضير الكسكس على الكانون\n",
      "التيجيني: اغتيال #خاشقجي وحكمة محمد السادس\n",
      "فريدة تزور دار المسنين في المغرب وتحمل العلم المغربي مع الزغاريد والتصفيقات\n",
      "ستعشق القرع بعد معرفتك هذه الطريقة لطهيه\n",
      "ملخص كامل لمباراة بـ رشـ لـ ونـ ة ورريـ ال مـ درريـ د 5-1🔥جنوووون عصام الشوالي🔥 كلاسيكو الارض\n",
      "خطيبة ضحية بتر اليد: \"قطعوها ليه بسيف بقاو صبعانو كيتركلو وبالخلعة لحت يدو في الأرض\n",
      "دنيا بطمة تنهار من البكاء في \"معكم منى الشاذلي\" بسبب قصة زواجها\n",
      "Hibapress| حصري: بروكلين يطلب السماح من شيخة طراكس والاخير تقبله\n",
      "Maître GIMS - Le Pire (Clip Officiel)\n",
      "Film Laعti Lah HDl  فيلم كوميدي العاطي الله\n",
      "شاهد لحظة فوز الطفلة \"المغربية\" مريم أمجون بلقب تحدي القراءة العربي 2018\n",
      "لن تصدق ساعة المغاربة تعود الى التوقيت القانوني وشركات الاتصالات تتبرأ - لا يفوتك مهم جدا\n",
      "روتين الصباحي/ صباح النشاط حتى شاط/حضرت الرغيفات معمرين شهوى منهم وحريرة / طجين الملوخية\n",
      "Sherine - Kadabeen | شيرين - كدابين\n",
      "أول خروج إعلامي لوالد الطالبة الجميلة اللي ماتت في حادث قطار بوقنادل..قبل متموت تقطعات ليها يديها\n",
      "زوجة ضابط الشرطة ضحية حادث \"بوقنادل\" تحكي بحرقة \"قالي غادي نموت قبل منك\"\n",
      "مؤلم.. قريب ضحية فاجعة بوقنادل: قبل وفاتها عنقاتني كتقول ليا نتا بابا وعزيز عليا\n",
      "شهادة تدمي القلب لزوجة ضابط الشرطة شهيد \"القطار\": كان زوجي ووالدي الكل يشهد بأخلاقه والحموشي اتصل به\n",
      "#اجي_تفهم تحقيق عالمي حول قطار بوقنادل بالادلة العلمية الدامغة وتحديد المسؤليات حصريا\n",
      "ضحية \"قاطع الرأس\" بالمحمدية يحكي تفاصيل الجريمة ..وساكنة \"دوار الشريف\" تستغيت\n",
      "DJ Snake - Taki Taki ft. Selena Gomez, Ozuna, Cardi B\n",
      "تناولو الخضر في غير موسمها بطريقة لالة فاضمة\n",
      "Rajaa Belmir - Had El Weld (EXCLUSIVE Music Video) | (رجاء بلمير - هاد الولد  (فيديو كليب حصري\n",
      "ناجون من كارثة \"قطار بوقنادل\" يحكون عن \"لحظات الرعب\" التي عاشوها بعد خروج القطار عن سكته\n",
      "شوفو شنو دارو المواطنين مع ضحايا فاجعة قطار بوقنادل و هاشنو وقع\n",
      "التفاصيل الكاملة لفاجعة انقلاب القطار ببوقنادل على لسان شاهدة عيان\n",
      "عاجل... ناجٍ يروي لـ \"العمق\" تفاصيل مؤلمة لانقلاب قطار بوالقنادل\n",
      "سامحيني مؤثر يمان يكشف حقيقة جوهرة أمام أعين فريدة مترجم | samhini 1524\n",
      "الطبيب العسكري يخرج طولا وعرضا في الشيخة الطراكس\n",
      "خطير....واش محمد آلسادس يسمح لالة سلمى تزوج من رجل آخر ؟\n",
      "سامحيني, مؤثر زواج مراد وكريمة امام اعين صحر , شاهذ صدمة صحر المسكينة , مترجم\n",
      "هذا هو المقرقب لي حيد راس مسن وبدا كايدور بيه بالمحمدية\n"
     ]
    }
   ],
   "source": [
    "from bs4 import BeautifulSoup\n",
    "import requests\n",
    "\n",
    "source = requests.get(\"http://web.archive.org/web/20181031022921/https://www.youtube.com/feed/trending?gl=MA\").text\n",
    "soup = BeautifulSoup(source, 'lxml')#.text.encode(\"utf-8\")\n",
    "\n",
    "file = open('df.txt','w+', encoding=\"utf-8\")\n",
    "\n",
    "for content in soup.findAll('div', class_= \"yt-lockup-content\"):\n",
    "    #print (content)\n",
    "    try:\n",
    "        title = content.h3.a.text\n",
    "        print(title)\n",
    "\n",
    "    except Exception as e:\n",
    "        description = None\n",
    "\n",
    "    file.write(title + \"\\n\")\n",
    "\n",
    "file.close()"
   ]
  },
  {
   "cell_type": "markdown",
   "metadata": {},
   "source": [
    "## merge two data files"
   ]
  },
  {
   "cell_type": "code",
   "execution_count": 22,
   "metadata": {},
   "outputs": [
    {
     "ename": "UnicodeDecodeError",
     "evalue": "'charmap' codec can't decode byte 0x81 in position 95: character maps to <undefined>",
     "output_type": "error",
     "traceback": [
      "\u001b[1;31m---------------------------------------------------------------------------\u001b[0m",
      "\u001b[1;31mUnicodeDecodeError\u001b[0m                        Traceback (most recent call last)",
      "\u001b[1;32m<ipython-input-22-437a15619e38>\u001b[0m in \u001b[0;36m<module>\u001b[1;34m\u001b[0m\n\u001b[0;32m      3\u001b[0m     \u001b[1;32mfor\u001b[0m \u001b[0mfname\u001b[0m \u001b[1;32min\u001b[0m \u001b[0mfilenames\u001b[0m\u001b[1;33m:\u001b[0m\u001b[1;33m\u001b[0m\u001b[1;33m\u001b[0m\u001b[0m\n\u001b[0;32m      4\u001b[0m         \u001b[1;32mwith\u001b[0m \u001b[0mopen\u001b[0m\u001b[1;33m(\u001b[0m\u001b[0mfname\u001b[0m\u001b[1;33m)\u001b[0m \u001b[1;32mas\u001b[0m \u001b[0minfile\u001b[0m\u001b[1;33m:\u001b[0m\u001b[1;33m\u001b[0m\u001b[1;33m\u001b[0m\u001b[0m\n\u001b[1;32m----> 5\u001b[1;33m             \u001b[0moutfile\u001b[0m\u001b[1;33m.\u001b[0m\u001b[0mwrite\u001b[0m\u001b[1;33m(\u001b[0m\u001b[0minfile\u001b[0m\u001b[1;33m.\u001b[0m\u001b[0mread\u001b[0m\u001b[1;33m(\u001b[0m\u001b[1;33m)\u001b[0m\u001b[1;33m)\u001b[0m\u001b[1;33m\u001b[0m\u001b[1;33m\u001b[0m\u001b[0m\n\u001b[0m",
      "\u001b[1;32m~\\Anaconda3\\lib\\encodings\\cp1252.py\u001b[0m in \u001b[0;36mdecode\u001b[1;34m(self, input, final)\u001b[0m\n\u001b[0;32m     21\u001b[0m \u001b[1;32mclass\u001b[0m \u001b[0mIncrementalDecoder\u001b[0m\u001b[1;33m(\u001b[0m\u001b[0mcodecs\u001b[0m\u001b[1;33m.\u001b[0m\u001b[0mIncrementalDecoder\u001b[0m\u001b[1;33m)\u001b[0m\u001b[1;33m:\u001b[0m\u001b[1;33m\u001b[0m\u001b[1;33m\u001b[0m\u001b[0m\n\u001b[0;32m     22\u001b[0m     \u001b[1;32mdef\u001b[0m \u001b[0mdecode\u001b[0m\u001b[1;33m(\u001b[0m\u001b[0mself\u001b[0m\u001b[1;33m,\u001b[0m \u001b[0minput\u001b[0m\u001b[1;33m,\u001b[0m \u001b[0mfinal\u001b[0m\u001b[1;33m=\u001b[0m\u001b[1;32mFalse\u001b[0m\u001b[1;33m)\u001b[0m\u001b[1;33m:\u001b[0m\u001b[1;33m\u001b[0m\u001b[1;33m\u001b[0m\u001b[0m\n\u001b[1;32m---> 23\u001b[1;33m         \u001b[1;32mreturn\u001b[0m \u001b[0mcodecs\u001b[0m\u001b[1;33m.\u001b[0m\u001b[0mcharmap_decode\u001b[0m\u001b[1;33m(\u001b[0m\u001b[0minput\u001b[0m\u001b[1;33m,\u001b[0m\u001b[0mself\u001b[0m\u001b[1;33m.\u001b[0m\u001b[0merrors\u001b[0m\u001b[1;33m,\u001b[0m\u001b[0mdecoding_table\u001b[0m\u001b[1;33m)\u001b[0m\u001b[1;33m[\u001b[0m\u001b[1;36m0\u001b[0m\u001b[1;33m]\u001b[0m\u001b[1;33m\u001b[0m\u001b[1;33m\u001b[0m\u001b[0m\n\u001b[0m\u001b[0;32m     24\u001b[0m \u001b[1;33m\u001b[0m\u001b[0m\n\u001b[0;32m     25\u001b[0m \u001b[1;32mclass\u001b[0m \u001b[0mStreamWriter\u001b[0m\u001b[1;33m(\u001b[0m\u001b[0mCodec\u001b[0m\u001b[1;33m,\u001b[0m\u001b[0mcodecs\u001b[0m\u001b[1;33m.\u001b[0m\u001b[0mStreamWriter\u001b[0m\u001b[1;33m)\u001b[0m\u001b[1;33m:\u001b[0m\u001b[1;33m\u001b[0m\u001b[1;33m\u001b[0m\u001b[0m\n",
      "\u001b[1;31mUnicodeDecodeError\u001b[0m: 'charmap' codec can't decode byte 0x81 in position 95: character maps to <undefined>"
     ]
    }
   ],
   "source": [
    "filenames = ['data.txt', 'data2.txt', 'data3.txt', 'data4.txt', 'data5.txt', 'data6.txt', 'data7.txt', 'data8.txt']\n",
    "with open('df.txt', 'w+', encoding=\"utf-8\") as outfile:\n",
    "    for fname in filenames:\n",
    "        with open(fname) as infile:\n",
    "            outfile.write(infile.read())\n"
   ]
  },
  {
   "cell_type": "code",
   "execution_count": null,
   "metadata": {},
   "outputs": [],
   "source": []
  }
 ],
 "metadata": {
  "kernelspec": {
   "display_name": "Python 3",
   "language": "python",
   "name": "python3"
  },
  "language_info": {
   "codemirror_mode": {
    "name": "ipython",
    "version": 3
   },
   "file_extension": ".py",
   "mimetype": "text/x-python",
   "name": "python",
   "nbconvert_exporter": "python",
   "pygments_lexer": "ipython3",
   "version": "3.7.0"
  }
 },
 "nbformat": 4,
 "nbformat_minor": 2
}
