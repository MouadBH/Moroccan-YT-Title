{
 "cells": [
  {
   "cell_type": "code",
   "execution_count": null,
   "metadata": {},
   "outputs": [],
   "source": [
    "from bs4 import BeautifulSoup\n",
    "import requests\n",
    "\n",
    "source = requests.get(\"https://www.youtube.com/playlist?list=PLsvl4NMyyNiWoswbCufti4XTCFnE_YKIt\").text\n",
    "soup = BeautifulSoup(source, 'html.parser')#.text.encode(\"utf-8\")\n",
    "\n",
    "file = open('data.txt', 'w+', encoding=\"utf-8\")\n",
    "for title in soup.findAll('a',{'class':'pl-video-title-link'}):\n",
    "    try:\n",
    "        title = title.get_text().strip() # Title\n",
    "        print(title)\n",
    "\n",
    "    except Exception as e:\n",
    "        description = None\n",
    "    file.write(title + \"\\n\")\n",
    "file.close()"
   ]
  },
  {
   "cell_type": "code",
   "execution_count": 21,
   "metadata": {},
   "outputs": [
    {
     "name": "stdout",
     "output_type": "stream",
     "text": [
      "SARI COOL - HAHOWA (official vídeo)\n",
      "Ihab Amir Ft. Rounee - Bghit Ntir Yamma (EXCLUSIVE Music Video) | إيهاب أمير - بغيت نطير ياما\n",
      "Dilbar Arabic Version | Fnaire Feat. Nora Fatehi\n",
      "زوجة الممثل عبد اللطيف الخمولي: الإفراغ داروه باش نكون مجرمة أنا وأولادي\n",
      "أول خروج إعلامي لجيران راقي بركان مول الفيديو الفضيحة .. تصريحات صادمة\n",
      "لحظة دخول بعض الفتيات لراقي بركان قبل اعتقاله\n",
      "عاجل..حقيقة ظهور فيذيو جديد لإمرأة حامل مع الراقي البركاني بعد شريط فيذيو الفتاة\n",
      "H-Kayne Feat Youness & Dj Soul-A (Exclusive Music Video) - ça va pas 2018  - آش كاين\n",
      "أول مغربية ترد بقوة على مولات سترينغ صاحبة تخراج العينين\n",
      "L'usine - Ep 10 - لوزين الحلقة\n",
      "فبراير تيفي | أميمة باعزية : أنا \"لعابة\" بموافقة زوجي .. و هذه قصة \"عطاك الله الزين\"\n",
      "مقلب الموت في خالتي / ههه كانت ستموت بالخوف هههه\n",
      "علاش عوجتو كلام لالة نعيمة / شقة لالة حادة / رسالة الى الشيافر\n",
      "بالدموع عبد اللطيف الخمولي نسبي بغا إخرجني من داري ونصب عليا في فلوسي...😭😭😭\n",
      "شوفو شنو  قال هاد المؤدن على  راقي بركان\n",
      "7-TOUN - HABIBI  (EXCLUSIVE Music Video) PROD BY : ZENNOUHI\n",
      "بالدموع 'الفنان عبد اللطيف الخمولي يشتكي تعرضه للنصب \"\n",
      "سوف تدمنين على أكل القرنبيط  بعد تجربة هذه الطريقة الخطيرة والمميزة\n",
      "ها فين كان كيمارس ويصور راقي بركان\n",
      "Lbenj - Classe (Lyric Video) / البنج - كلاس\n",
      "مقلب البوسة في زوجتي وجدت عندي منديل فيه العكر ديال بنت أخرى( الصدمة كانت قوية هههه)\n",
      "انفراد.. الشخص الذي فجر قضية الفيديوهات الجنسية لراقي بركان\n",
      "34 SURPRISING MAGIC TRICKS\n",
      "بالدموع..أول خروج إعلامي لزوجة الفنان الخمولي بعد طردهم من بيتهم\n",
      "عندك بيضة وكأس من الدقيق شوفي اش ممكن توجدي بيهم\n",
      "أسرار خاصة لم تروها من قبل عن حياة Ikram Bellanova إكرام بيلانوفا أخفتها عنكم.. شاهد التفاصيل 😱\n",
      "Safaa Hanaa -ANA 3OMRI MA NETKHASEM ME3AK-أنا عمري ما نتخاصم معاك- (EXCLUSIVE Music) صفاء و هناء\n",
      "قدور و عويشة - 26 - نـــــكـــــار الــــخـــــيــــــر\n",
      "Aymane Serhani - Ntiya Mon Koulchi (Avec Harone Synthé)\n",
      "إلا عندك فلفلة فالدار دخلي شوفي آش تقدري ديري بيها😊😊☝☝👍👍👌👌\n",
      "Manal - SLAY x ElGrandeToto [ Official Music Video ]\n",
      "كسكس الشعير بالكرداس و القديد مع لالة حادة و لالة نعيمة\n",
      "شوفي كرسي بلاستيكي ديال 15درهم كفاش رجع//لن تصدقي ماستريه/DIY/RECYCLAGE\n",
      "بشرى بردات غدايدكم 😡ديال زيادة الساعة ⏰ فالحكومة وكرمات الافارقة بطريقتها - متخافش من الضوو🌹🔌\n",
      "7LIWA - SEÑORITA FT. DJ HAMIDA (Clip Officiel)\n",
      "مقلب في أمي/ البنت حامل مني  (سخفات ليا الواليدة)  😢😢\n",
      "ملخص مبارة  الرجاء و الاسماعيلي 0 0 ركلات الترجيح 4  2  اهداف كاملة\n",
      "عاااجل!!فرنسا تؤكد مرض لالة سلمى لن تتخيل ماهو هذا المرض سيبكي المغاربة..!!\n",
      "أخبار اليوم- الظهيرة - الجمعة 14 دجنبر 2018 القناة الثانية دوزيم 2M\n",
      "علاش درتيلي هد شي حشومة عايك\n",
      "ما لم تشاهده على التلفاز من ضربات جزاء الرجاء ضد الإسماعيلي\n",
      "مغربية تفركعات على الفتاة اللي حصلات في فيديو الراقي البركاني \"كوني تحشمي اختي \"\n",
      "زوجته لاتنجب ثم تزوج عليها... ولكن كانت صادمة 😱 ( قدر الله) شاهد الفيديو\n",
      "جديد سمك السردين مقلي بدون زيت و بدون فرن راااائع صحي و مقرمش +مرافق بطبق بطاطس KFC.معشوق الاطفال\n",
      "خامولي: عندي بنت معاقة ولو كنت حارس ليلي مغنتعرضش للطرد والتشرد\n",
      "شاحنة تسقط جرحى من ركاب عربات \"الترامواي\" في الدار البيضاء\n",
      "IZI feat 7ari - MIA ( OFFICIEL CLIP ) Prod By Enywayz.\n",
      "بطاطس مقرمشة بطريقة مبهرة وبمكونات متوفرة في كل بيت  سيعشقها الكبير والصغير روعة****\n",
      "قبلة وتزغريتة..السبب في زواج نزيلين بدار العجزة\n",
      "عصير المندرين🍊🍊 مذاق رائع بمقادير بسيطة وكمية كثيرة\n",
      "أول خروج إعلامي لمومو بعد زواجه \"زوجتي اعتنقت الإسلام ولي سربت صور العرس كاع مكانت معروضة\"\n",
      "Yara & Douzi & Dj Youcef - Mallet [Official Music Video] / يارا ودوزي ودج يوسف - مليت\n",
      "Hamouda ft. Balti - Baba (Official Music Video)\n",
      "إلى عندك الروز والبيض أجي تشوفي أش تقدري تحضري بيه\n",
      "شاهد الفنانة \"رانيا يوسف\" ترتدي فستان فاضح يكشف جسدها\n",
      "فيديو حار كيفلفل مع لالة نعيمة و لالة حادة ( الهريسة )\n",
      "وداعا للكسل بعد معرفة هده الطريقة حضري مسمن في رمشة عين بدون مجهود في وقت قياسي لا تفوتكم\n",
      "مذاق لايقاوم  مسمن بالحليب بدون زبدة ولاثعب في آخر لحظة،👌👌👌\n",
      "مراسيم جنازة جدة \"الأميرة للاسلمى\" والتصرف الشجاع الدي فعله الأمير مولاي الحسن مع خاله\n",
      "Fnaire Feat. Nora Fatehi - Dilbar | Dance Choreography\n",
      "#5 بلفن : سعد المجرد في سراح مؤقت و إهاب أمير يصدم فناير و أسوء إطلالات مهرجان مراكش\n",
      "حقائق صادمة من أمام منزل راقي بركان: البنت اللي بانت في الفيديو كانت تقول خاطيبي\n",
      "Yussef Aoutoul - Taralali (EXCLUSIVE Music Video ) | يوسف أوتول - ترلالي\n",
      "Adham Nabulsi - Howeh El Hob (Official Music Video) | ادهم نابلسي - هو الحب\n"
     ]
    }
   ],
   "source": [
    "from bs4 import BeautifulSoup\n",
    "import requests\n",
    "\n",
    "source = requests.get(\"http://web.archive.org/web/20181214235920/https://www.youtube.com/feed/trending?gl=MA\").text\n",
    "soup = BeautifulSoup(source, 'lxml')#.text.encode(\"utf-8\")\n",
    "\n",
    "file = open('data8.txt','w+', encoding=\"utf-8\")\n",
    "\n",
    "for content in soup.findAll('div', class_= \"yt-lockup-content\"):\n",
    "    #print (content)\n",
    "    try:\n",
    "        title = content.h3.a.text\n",
    "        print(title)\n",
    "\n",
    "    except Exception as e:\n",
    "        description = None\n",
    "\n",
    "    file.write(title + \"\\n\")\n",
    "\n",
    "file.close()"
   ]
  },
  {
   "cell_type": "markdown",
   "metadata": {},
   "source": [
    "## merge two data files"
   ]
  },
  {
   "cell_type": "code",
   "execution_count": 22,
   "metadata": {},
   "outputs": [
    {
     "ename": "UnicodeDecodeError",
     "evalue": "'charmap' codec can't decode byte 0x81 in position 95: character maps to <undefined>",
     "output_type": "error",
     "traceback": [
      "\u001b[1;31m---------------------------------------------------------------------------\u001b[0m",
      "\u001b[1;31mUnicodeDecodeError\u001b[0m                        Traceback (most recent call last)",
      "\u001b[1;32m<ipython-input-22-437a15619e38>\u001b[0m in \u001b[0;36m<module>\u001b[1;34m\u001b[0m\n\u001b[0;32m      3\u001b[0m     \u001b[1;32mfor\u001b[0m \u001b[0mfname\u001b[0m \u001b[1;32min\u001b[0m \u001b[0mfilenames\u001b[0m\u001b[1;33m:\u001b[0m\u001b[1;33m\u001b[0m\u001b[1;33m\u001b[0m\u001b[0m\n\u001b[0;32m      4\u001b[0m         \u001b[1;32mwith\u001b[0m \u001b[0mopen\u001b[0m\u001b[1;33m(\u001b[0m\u001b[0mfname\u001b[0m\u001b[1;33m)\u001b[0m \u001b[1;32mas\u001b[0m \u001b[0minfile\u001b[0m\u001b[1;33m:\u001b[0m\u001b[1;33m\u001b[0m\u001b[1;33m\u001b[0m\u001b[0m\n\u001b[1;32m----> 5\u001b[1;33m             \u001b[0moutfile\u001b[0m\u001b[1;33m.\u001b[0m\u001b[0mwrite\u001b[0m\u001b[1;33m(\u001b[0m\u001b[0minfile\u001b[0m\u001b[1;33m.\u001b[0m\u001b[0mread\u001b[0m\u001b[1;33m(\u001b[0m\u001b[1;33m)\u001b[0m\u001b[1;33m)\u001b[0m\u001b[1;33m\u001b[0m\u001b[1;33m\u001b[0m\u001b[0m\n\u001b[0m",
      "\u001b[1;32m~\\Anaconda3\\lib\\encodings\\cp1252.py\u001b[0m in \u001b[0;36mdecode\u001b[1;34m(self, input, final)\u001b[0m\n\u001b[0;32m     21\u001b[0m \u001b[1;32mclass\u001b[0m \u001b[0mIncrementalDecoder\u001b[0m\u001b[1;33m(\u001b[0m\u001b[0mcodecs\u001b[0m\u001b[1;33m.\u001b[0m\u001b[0mIncrementalDecoder\u001b[0m\u001b[1;33m)\u001b[0m\u001b[1;33m:\u001b[0m\u001b[1;33m\u001b[0m\u001b[1;33m\u001b[0m\u001b[0m\n\u001b[0;32m     22\u001b[0m     \u001b[1;32mdef\u001b[0m \u001b[0mdecode\u001b[0m\u001b[1;33m(\u001b[0m\u001b[0mself\u001b[0m\u001b[1;33m,\u001b[0m \u001b[0minput\u001b[0m\u001b[1;33m,\u001b[0m \u001b[0mfinal\u001b[0m\u001b[1;33m=\u001b[0m\u001b[1;32mFalse\u001b[0m\u001b[1;33m)\u001b[0m\u001b[1;33m:\u001b[0m\u001b[1;33m\u001b[0m\u001b[1;33m\u001b[0m\u001b[0m\n\u001b[1;32m---> 23\u001b[1;33m         \u001b[1;32mreturn\u001b[0m \u001b[0mcodecs\u001b[0m\u001b[1;33m.\u001b[0m\u001b[0mcharmap_decode\u001b[0m\u001b[1;33m(\u001b[0m\u001b[0minput\u001b[0m\u001b[1;33m,\u001b[0m\u001b[0mself\u001b[0m\u001b[1;33m.\u001b[0m\u001b[0merrors\u001b[0m\u001b[1;33m,\u001b[0m\u001b[0mdecoding_table\u001b[0m\u001b[1;33m)\u001b[0m\u001b[1;33m[\u001b[0m\u001b[1;36m0\u001b[0m\u001b[1;33m]\u001b[0m\u001b[1;33m\u001b[0m\u001b[1;33m\u001b[0m\u001b[0m\n\u001b[0m\u001b[0;32m     24\u001b[0m \u001b[1;33m\u001b[0m\u001b[0m\n\u001b[0;32m     25\u001b[0m \u001b[1;32mclass\u001b[0m \u001b[0mStreamWriter\u001b[0m\u001b[1;33m(\u001b[0m\u001b[0mCodec\u001b[0m\u001b[1;33m,\u001b[0m\u001b[0mcodecs\u001b[0m\u001b[1;33m.\u001b[0m\u001b[0mStreamWriter\u001b[0m\u001b[1;33m)\u001b[0m\u001b[1;33m:\u001b[0m\u001b[1;33m\u001b[0m\u001b[1;33m\u001b[0m\u001b[0m\n",
      "\u001b[1;31mUnicodeDecodeError\u001b[0m: 'charmap' codec can't decode byte 0x81 in position 95: character maps to <undefined>"
     ]
    }
   ],
   "source": [
    "filenames = ['data.txt', 'data2.txt', 'data3.txt', 'data4.txt', 'data5.txt', 'data6.txt', 'data7.txt', 'data8.txt']\n",
    "with open('df.txt', 'w+', encoding=\"utf-8\") as outfile:\n",
    "    for fname in filenames:\n",
    "        with open(fname) as infile:\n",
    "            outfile.write(infile.read())\n"
   ]
  },
  {
   "cell_type": "code",
   "execution_count": null,
   "metadata": {},
   "outputs": [],
   "source": []
  }
 ],
 "metadata": {
  "kernelspec": {
   "display_name": "Python 3",
   "language": "python",
   "name": "python3"
  },
  "language_info": {
   "codemirror_mode": {
    "name": "ipython",
    "version": 3
   },
   "file_extension": ".py",
   "mimetype": "text/x-python",
   "name": "python",
   "nbconvert_exporter": "python",
   "pygments_lexer": "ipython3",
   "version": "3.7.3"
  }
 },
 "nbformat": 4,
 "nbformat_minor": 2
}
